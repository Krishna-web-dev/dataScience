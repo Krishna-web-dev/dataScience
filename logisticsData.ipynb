{
  "nbformat": 4,
  "nbformat_minor": 0,
  "metadata": {
    "colab": {
      "name": "logisticsData.ipynb",
      "provenance": [],
      "authorship_tag": "ABX9TyOUcMiGM+VkYgv8fFBgYfrH",
      "include_colab_link": true
    },
    "kernelspec": {
      "name": "python3",
      "display_name": "Python 3"
    }
  },
  "cells": [
    {
      "cell_type": "markdown",
      "metadata": {
        "id": "view-in-github",
        "colab_type": "text"
      },
      "source": [
        "<a href=\"https://colab.research.google.com/github/Krishna-web-dev/dataScience/blob/master/logisticsData.ipynb\" target=\"_parent\"><img src=\"https://colab.research.google.com/assets/colab-badge.svg\" alt=\"Open In Colab\"/></a>"
      ]
    },
    {
      "cell_type": "code",
      "metadata": {
        "id": "JL-JtTsLToGb",
        "colab_type": "code",
        "colab": {
          "base_uri": "https://localhost:8080/",
          "height": 241
        },
        "outputId": "e818e7e6-336e-4229-a8c4-2595c1ef6c89"
      },
      "source": [
        "from sklearn.linear_model import LogisticRegression\n",
        "from sklearn.model_selection import train_test_split\n",
        "from sklearn.metrics import accuracy_score,mean_absolute_error,mean_squared_error\n",
        "from sklearn.datasets import load_iris\n",
        "\n",
        "iris = load_iris() #['sepal length (cm)','sepal width (cm)','petal length (cm)','petal width (cm)'],\n",
        "\n",
        "\n",
        "x = iris.data         # iris['data']\n",
        "y = iris.target       # iris['target']\n",
        "\n",
        "print(iris['target_names'])\n",
        "\n",
        "x_train,x_test,y_train,y_test=train_test_split(x,y,test_size=0.2,random_state=0)\n",
        "\n",
        "\n",
        "Lin = LogisticRegression(random_state=0)\n",
        "\n",
        "Lin.fit(x_train,y_train)\n",
        "\n",
        "Pred_y = Lin.predict(x_test)\n",
        "\n",
        "acc = accuracy_score(y_test,Pred_y)\n",
        "print(acc)\n",
        "\n",
        "#MAE measures the average magnitude of the errors in a set of predictions,without considering their direction.\n",
        "#The Mean Absolute Error(MAE) is the average of all absolute errors.\n",
        "print(mean_absolute_error(y_test,Pred_y))\n",
        "\n",
        "\n",
        "#RMSE is a quadratic scoring rule that also measures the average magnitude of the error.\n",
        "# The average squared difference between the estimated values and the actual value\n",
        "print(mean_squared_error(y_test,Pred_y))"
      ],
      "execution_count": 5,
      "outputs": [
        {
          "output_type": "stream",
          "text": [
            "['setosa' 'versicolor' 'virginica']\n",
            "1.0\n",
            "0.0\n",
            "0.0\n"
          ],
          "name": "stdout"
        },
        {
          "output_type": "stream",
          "text": [
            "/usr/local/lib/python3.6/dist-packages/sklearn/linear_model/_logistic.py:940: ConvergenceWarning: lbfgs failed to converge (status=1):\n",
            "STOP: TOTAL NO. of ITERATIONS REACHED LIMIT.\n",
            "\n",
            "Increase the number of iterations (max_iter) or scale the data as shown in:\n",
            "    https://scikit-learn.org/stable/modules/preprocessing.html\n",
            "Please also refer to the documentation for alternative solver options:\n",
            "    https://scikit-learn.org/stable/modules/linear_model.html#logistic-regression\n",
            "  extra_warning_msg=_LOGISTIC_SOLVER_CONVERGENCE_MSG)\n"
          ],
          "name": "stderr"
        }
      ]
    }
  ]
}